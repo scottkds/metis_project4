{
 "cells": [
  {
   "cell_type": "code",
   "execution_count": 1,
   "metadata": {
    "ExecuteTime": {
     "end_time": "2019-11-08T00:43:37.043199Z",
     "start_time": "2019-11-08T00:43:35.178709Z"
    }
   },
   "outputs": [],
   "source": [
    "from sklearn.feature_extraction.text import TfidfVectorizer\n",
    "from sklearn.decomposition import TruncatedSVD\n",
    "import pandas as pd"
   ]
  },
  {
   "cell_type": "code",
   "execution_count": 2,
   "metadata": {
    "ExecuteTime": {
     "end_time": "2019-11-08T00:43:38.097353Z",
     "start_time": "2019-11-08T00:43:37.722314Z"
    }
   },
   "outputs": [
    {
     "data": {
      "text/html": [
       "<div>\n",
       "<style scoped>\n",
       "    .dataframe tbody tr th:only-of-type {\n",
       "        vertical-align: middle;\n",
       "    }\n",
       "\n",
       "    .dataframe tbody tr th {\n",
       "        vertical-align: top;\n",
       "    }\n",
       "\n",
       "    .dataframe thead th {\n",
       "        text-align: right;\n",
       "    }\n",
       "</style>\n",
       "<table border=\"1\" class=\"dataframe\">\n",
       "  <thead>\n",
       "    <tr style=\"text-align: right;\">\n",
       "      <th></th>\n",
       "      <th>id</th>\n",
       "      <th>author</th>\n",
       "      <th>title</th>\n",
       "      <th>url</th>\n",
       "      <th>img</th>\n",
       "      <th>created</th>\n",
       "    </tr>\n",
       "  </thead>\n",
       "  <tbody>\n",
       "    <tr>\n",
       "      <td>0</td>\n",
       "      <td>7ne4ed</td>\n",
       "      <td>[deleted]</td>\n",
       "      <td>My New Years platter was so pleasing to look at</td>\n",
       "      <td>/r/FoodPorn/comments/7ne4ed/my_new_years_platt...</td>\n",
       "      <td>https://i.redd.it/zvqsoub00f701.jpg</td>\n",
       "      <td>1514794450</td>\n",
       "    </tr>\n",
       "    <tr>\n",
       "      <td>1</td>\n",
       "      <td>7ne6pu</td>\n",
       "      <td>Spaghettiman19</td>\n",
       "      <td>Reese's Cup Cookies to bring in the New Year! ...</td>\n",
       "      <td>/r/FoodPorn/comments/7ne6pu/reeses_cup_cookies...</td>\n",
       "      <td>https://i.redd.it/ogcqjj4y2f701.jpg</td>\n",
       "      <td>1514795619</td>\n",
       "    </tr>\n",
       "    <tr>\n",
       "      <td>2</td>\n",
       "      <td>7neq9s</td>\n",
       "      <td>[deleted]</td>\n",
       "      <td>My NYE platter was very pleasing to the eye, a...</td>\n",
       "      <td>/r/FoodPorn/comments/7neq9s/my_nye_platter_was...</td>\n",
       "      <td>https://i.redd.it/ksme7x8xyf701.jpg</td>\n",
       "      <td>1514806169</td>\n",
       "    </tr>\n",
       "    <tr>\n",
       "      <td>3</td>\n",
       "      <td>7nermb</td>\n",
       "      <td>[deleted]</td>\n",
       "      <td>Last meal of 2017, traditional Russian potato ...</td>\n",
       "      <td>/r/FoodPorn/comments/7nermb/last_meal_of_2017_...</td>\n",
       "      <td>https://i.redd.it/ahjle9c11g701.jpg</td>\n",
       "      <td>1514806889</td>\n",
       "    </tr>\n",
       "    <tr>\n",
       "      <td>4</td>\n",
       "      <td>7nerr2</td>\n",
       "      <td>deadcheeky</td>\n",
       "      <td>My delicious homemade new year ham [OC]</td>\n",
       "      <td>/r/FoodPorn/comments/7nerr2/my_delicious_homem...</td>\n",
       "      <td>https://i.redd.it/q4waspha1g701.jpg</td>\n",
       "      <td>1514806955</td>\n",
       "    </tr>\n",
       "  </tbody>\n",
       "</table>\n",
       "</div>"
      ],
      "text/plain": [
       "       id          author                                              title  \\\n",
       "0  7ne4ed       [deleted]    My New Years platter was so pleasing to look at   \n",
       "1  7ne6pu  Spaghettiman19  Reese's Cup Cookies to bring in the New Year! ...   \n",
       "2  7neq9s       [deleted]  My NYE platter was very pleasing to the eye, a...   \n",
       "3  7nermb       [deleted]  Last meal of 2017, traditional Russian potato ...   \n",
       "4  7nerr2      deadcheeky            My delicious homemade new year ham [OC]   \n",
       "\n",
       "                                                 url  \\\n",
       "0  /r/FoodPorn/comments/7ne4ed/my_new_years_platt...   \n",
       "1  /r/FoodPorn/comments/7ne6pu/reeses_cup_cookies...   \n",
       "2  /r/FoodPorn/comments/7neq9s/my_nye_platter_was...   \n",
       "3  /r/FoodPorn/comments/7nermb/last_meal_of_2017_...   \n",
       "4  /r/FoodPorn/comments/7nerr2/my_delicious_homem...   \n",
       "\n",
       "                                   img     created  \n",
       "0  https://i.redd.it/zvqsoub00f701.jpg  1514794450  \n",
       "1  https://i.redd.it/ogcqjj4y2f701.jpg  1514795619  \n",
       "2  https://i.redd.it/ksme7x8xyf701.jpg  1514806169  \n",
       "3  https://i.redd.it/ahjle9c11g701.jpg  1514806889  \n",
       "4  https://i.redd.it/q4waspha1g701.jpg  1514806955  "
      ]
     },
     "execution_count": 2,
     "metadata": {},
     "output_type": "execute_result"
    }
   ],
   "source": [
    "tf = TfidfVectorizer(stop_words='english')\n",
    "fp = pd.read_csv('../data/interim/fp_posts.csv')\n",
    "fp.head()"
   ]
  },
  {
   "cell_type": "code",
   "execution_count": 3,
   "metadata": {
    "ExecuteTime": {
     "end_time": "2019-11-08T00:44:03.007634Z",
     "start_time": "2019-11-08T00:44:02.701112Z"
    }
   },
   "outputs": [],
   "source": [
    "fp['title'] = fp.title.str.replace(r'\\d+', '')\n",
    "fp['title'] = fp.title.str.replace(r'\\[.*\\]', '')"
   ]
  },
  {
   "cell_type": "code",
   "execution_count": 4,
   "metadata": {
    "ExecuteTime": {
     "end_time": "2019-11-08T00:44:06.241413Z",
     "start_time": "2019-11-08T00:44:06.236337Z"
    }
   },
   "outputs": [
    {
     "data": {
      "text/plain": [
       "0      My New Years platter was so pleasing to look at\n",
       "1       Reese's Cup Cookies to bring in the New Year! \n",
       "2    My NYE platter was very pleasing to the eye, a...\n",
       "3    Last meal of , traditional Russian potato sala...\n",
       "4                  My delicious homemade new year ham \n",
       "Name: title, dtype: object"
      ]
     },
     "execution_count": 4,
     "metadata": {},
     "output_type": "execute_result"
    }
   ],
   "source": [
    "fp['title'].head()"
   ]
  },
  {
   "cell_type": "code",
   "execution_count": 5,
   "metadata": {
    "ExecuteTime": {
     "end_time": "2019-11-08T00:44:32.820384Z",
     "start_time": "2019-11-08T00:44:32.817702Z"
    }
   },
   "outputs": [],
   "source": [
    "# X = tf.fit_transform(fp['title'].to_list())\n",
    "\n",
    "# tf.get_feature_names()[:10]"
   ]
  },
  {
   "cell_type": "code",
   "execution_count": 6,
   "metadata": {
    "ExecuteTime": {
     "end_time": "2019-11-08T00:45:03.375832Z",
     "start_time": "2019-11-08T00:45:03.373343Z"
    }
   },
   "outputs": [],
   "source": [
    "# tf = TfidfVectorizer(stop_words='english')"
   ]
  },
  {
   "cell_type": "code",
   "execution_count": null,
   "metadata": {
    "ExecuteTime": {
     "end_time": "2019-11-08T00:34:19.272617Z",
     "start_time": "2019-11-08T00:34:19.268590Z"
    }
   },
   "outputs": [],
   "source": [
    "post_titles = fp['title']\n",
    "post_titles.head()"
   ]
  },
  {
   "cell_type": "code",
   "execution_count": 7,
   "metadata": {
    "ExecuteTime": {
     "end_time": "2019-11-08T00:45:25.147486Z",
     "start_time": "2019-11-08T00:45:24.282002Z"
    }
   },
   "outputs": [],
   "source": [
    "wv = tf.fit_transform(fp['title'])"
   ]
  },
  {
   "cell_type": "code",
   "execution_count": 8,
   "metadata": {
    "ExecuteTime": {
     "end_time": "2019-11-08T00:45:27.047906Z",
     "start_time": "2019-11-08T00:45:27.011918Z"
    }
   },
   "outputs": [
    {
     "data": {
      "text/plain": [
       "['___',\n",
       " '_agapavrwww',\n",
       " '_i',\n",
       " '_technicolor_',\n",
       " '_كل',\n",
       " 'aa',\n",
       " 'aaa',\n",
       " 'aaaaaaand',\n",
       " 'aaaaaand',\n",
       " 'aaaaahhhhh',\n",
       " 'aaaand',\n",
       " 'aaand',\n",
       " 'aafmrrxbh',\n",
       " 'aah',\n",
       " 'aahhahahahahha',\n",
       " 'aahhh',\n",
       " 'aalborg',\n",
       " 'aaliya',\n",
       " 'aalo',\n",
       " 'aalty']"
      ]
     },
     "execution_count": 8,
     "metadata": {},
     "output_type": "execute_result"
    }
   ],
   "source": [
    "tf.get_feature_names()[:20]"
   ]
  },
  {
   "cell_type": "code",
   "execution_count": null,
   "metadata": {
    "ExecuteTime": {
     "end_time": "2019-11-08T00:34:21.184555Z",
     "start_time": "2019-11-08T00:34:20.210650Z"
    }
   },
   "outputs": [],
   "source": [
    "# words = pd.DataFrame(wv.toarray(), columns=tf.get_feature_names())"
   ]
  },
  {
   "cell_type": "code",
   "execution_count": null,
   "metadata": {
    "ExecuteTime": {
     "end_time": "2019-11-08T00:34:22.908877Z",
     "start_time": "2019-11-08T00:34:21.185928Z"
    }
   },
   "outputs": [],
   "source": [
    "# words.info()"
   ]
  },
  {
   "cell_type": "code",
   "execution_count": null,
   "metadata": {
    "ExecuteTime": {
     "end_time": "2019-11-08T00:34:22.914589Z",
     "start_time": "2019-11-08T00:34:22.910672Z"
    }
   },
   "outputs": [],
   "source": [
    "# post_titles.loc[0]"
   ]
  },
  {
   "cell_type": "code",
   "execution_count": null,
   "metadata": {
    "ExecuteTime": {
     "start_time": "2019-11-08T00:46:57.997Z"
    }
   },
   "outputs": [],
   "source": [
    "lsa = TruncatedSVD(n_components=2)\n",
    "word_vec_reduced = lsa.fit_transform(wv.toarray())"
   ]
  },
  {
   "cell_type": "code",
   "execution_count": null,
   "metadata": {},
   "outputs": [],
   "source": []
  }
 ],
 "metadata": {
  "kernelspec": {
   "display_name": "Python 3",
   "language": "python",
   "name": "python3"
  },
  "language_info": {
   "codemirror_mode": {
    "name": "ipython",
    "version": 3
   },
   "file_extension": ".py",
   "mimetype": "text/x-python",
   "name": "python",
   "nbconvert_exporter": "python",
   "pygments_lexer": "ipython3",
   "version": "3.7.3"
  },
  "toc": {
   "base_numbering": 1,
   "nav_menu": {},
   "number_sections": true,
   "sideBar": true,
   "skip_h1_title": false,
   "title_cell": "Table of Contents",
   "title_sidebar": "Contents",
   "toc_cell": false,
   "toc_position": {},
   "toc_section_display": true,
   "toc_window_display": false
  }
 },
 "nbformat": 4,
 "nbformat_minor": 2
}
