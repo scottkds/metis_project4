{
 "cells": [
  {
   "cell_type": "code",
   "execution_count": 1,
   "metadata": {
    "ExecuteTime": {
     "end_time": "2019-11-15T08:36:58.813768Z",
     "start_time": "2019-11-15T08:36:55.919288Z"
    }
   },
   "outputs": [],
   "source": [
    "# Imports\n",
    "import gensim\n",
    "import pandas as pd\n",
    "import numpy as np\n",
    "import pickle\n",
    "import matplotlib.pyplot as plt\n",
    "\n",
    "# Gensim\n",
    "from gensim.parsing.preprocessing import preprocess_string, strip_tags\n",
    "from gensim.parsing.preprocessing import strip_punctuation, strip_multiple_whitespaces\n",
    "from gensim.parsing.preprocessing import stem_text, strip_numeric, strip_short\n",
    "from gensim.corpora import Dictionary\n",
    "\n",
    "# Scitkit Learn Imports\n",
    "from sklearn.feature_extraction.text import TfidfVectorizer\n",
    "from sklearn.feature_extraction.text import CountVectorizer\n",
    "from sklearn.decomposition import TruncatedSVD as LSA\n",
    "from sklearn.decomposition import NMF\n",
    "from sklearn.decomposition import LatentDirichletAllocation as LDA\n",
    "from sklearn.cluster import KMeans\n",
    "from sklearn.preprocessing import normalize"
   ]
  },
  {
   "cell_type": "code",
   "execution_count": 2,
   "metadata": {
    "ExecuteTime": {
     "end_time": "2019-11-15T08:36:58.819016Z",
     "start_time": "2019-11-15T08:36:58.816137Z"
    }
   },
   "outputs": [],
   "source": [
    "fp = None"
   ]
  },
  {
   "cell_type": "code",
   "execution_count": 3,
   "metadata": {
    "ExecuteTime": {
     "end_time": "2019-11-15T08:36:58.827368Z",
     "start_time": "2019-11-15T08:36:58.822600Z"
    }
   },
   "outputs": [],
   "source": [
    "def clean_str(string):\n",
    "    \"\"\"Cleans and tokenizes a string with some functions from gensim.\n",
    "\n",
    "    Input: A string\n",
    "    Output: A lists of tokenized words\"\"\"\n",
    "    return preprocess_string(string, filters=[strip_tags, strip_punctuation,\n",
    "                                    strip_numeric, strip_multiple_whitespaces,\n",
    "                                    strip_short])"
   ]
  },
  {
   "cell_type": "code",
   "execution_count": 4,
   "metadata": {
    "ExecuteTime": {
     "end_time": "2019-11-15T08:36:58.835232Z",
     "start_time": "2019-11-15T08:36:58.831020Z"
    }
   },
   "outputs": [],
   "source": [
    "def create_vocabulary(series_of_strings, min_count=20, max_percent=0.05, keep_n=10000):\n",
    "    \"\"\"Tokenizes words in the list_of_strings and filters extremes.\n",
    "    Returns a set of words that comprise a vocabulary based on the\n",
    "    input strings\"\"\"\n",
    "    # all_words = series_of_strings.apply(lambda row: preprocess_string(row))\n",
    "    all_words = Dictionary(series_of_strings.apply(lambda row: clean_str(row)))\n",
    "    all_words.filter_extremes(no_below=min_count, no_above=max_percent, keep_n=keep_n)\n",
    "    return set(all_words.values())"
   ]
  },
  {
   "cell_type": "code",
   "execution_count": 5,
   "metadata": {
    "ExecuteTime": {
     "end_time": "2019-11-15T08:36:58.842097Z",
     "start_time": "2019-11-15T08:36:58.838481Z"
    }
   },
   "outputs": [],
   "source": [
    "def tokenize(string):\n",
    "    \"\"\"Cleans and tokenizes a string and returns a list of strings that are in\n",
    "    VOCABULARY\"\"\"\n",
    "    words_in_string = clean_str(string)\n",
    "    return ' '.join([word for word in words_in_string if word in VOCABULARY])"
   ]
  },
  {
   "cell_type": "code",
   "execution_count": 6,
   "metadata": {
    "ExecuteTime": {
     "end_time": "2019-11-15T08:36:58.853517Z",
     "start_time": "2019-11-15T08:36:58.845044Z"
    }
   },
   "outputs": [],
   "source": [
    "def run_models(data, vectorizers, models, n_topics, tokenizer, vocabulary):\n",
    "    \"\"\"Provides a pipeline functionality in order to run multiple vectorizers,\n",
    "    models and number of topics.\"\"\"\n",
    "    return_model = None\n",
    "    for vkey, vectorizer in vectorizers.items():\n",
    "        vec = vectorizer(stop_words='english', ngram_range=(1,2))\n",
    "        vectorizer_fit = vec.fit_transform(data)\n",
    "        for mkey, model in models.items():\n",
    "            for n in n_topics:\n",
    "                model_instance = model(n_components=n)\n",
    "                word_vector = model_instance.fit_transform(vectorizer_fit)\n",
    "                return_model = word_vector\n",
    "                print('notes/output_file_{}_{}_{}.txt'.format(vkey,mkey, n))\n",
    "\n",
    "                terms = vec.get_feature_names()\n",
    "                with open('/Users/scott/p4/notes/output_file_{}_{}_{}.txt'.format(vkey,mkey, n), 'w') as notes:\n",
    "                    for idx, comp in enumerate(model_instance.components_):\n",
    "                        terms_in_components = zip(terms, comp)\n",
    "                        sorted_terms = sorted(terms_in_components, key=lambda x: x[1], reverse=True)\n",
    "                        notes.write('Topic {}\\n:'.format(idx))\n",
    "                        for i, term in enumerate(sorted_terms[:10]):\n",
    "                            notes.write('{} '.format(term[0]))\n",
    "                        notes.write('\\n')\n",
    "\n",
    "#                 print('Pickling Vectorizer...')\n",
    "#                 with open('pickles/vectorizer_{}_{}_{}.pkl'.format(vkey,mkey, n), 'wb') as f:\n",
    "#                     pickle.dump(vec, f)\n",
    "\n",
    "#                 print('Pickling model object...')\n",
    "#                 with open('pickles/model_{}_{}_{}.pkl'.format(vkey,mkey, n), 'wb') as f:\n",
    "#                     pickle.dump(model_instance, f)\n",
    "\n",
    "#                 print('Pickling document topic object...')\n",
    "#                 with open('pickles/doc_topic_{}_{}_{}.pkl'.format(vkey,mkey, n), 'wb') as f:\n",
    "#                     pickle.dump(word_vector, f)\n",
    "    return return_model"
   ]
  },
  {
   "cell_type": "code",
   "execution_count": 7,
   "metadata": {
    "ExecuteTime": {
     "end_time": "2019-11-15T08:36:58.859396Z",
     "start_time": "2019-11-15T08:36:58.855686Z"
    }
   },
   "outputs": [],
   "source": [
    "def find_best_num_clusters(matrix, cluster_rng):\n",
    "    \"\"\"Runs KMeans on the matrix for each number in the range -1. \n",
    "    Returns a list of cluster and interia measurements.\"\"\"\n",
    "    clusters_errors = []\n",
    "    for n in cluster_rng:\n",
    "        km = KMeans(n_clusters=n)\n",
    "        km.fit(matrix)\n",
    "        clusters_errors.append((n, km.inertia_))\n",
    "    return clusters_errors"
   ]
  },
  {
   "cell_type": "code",
   "execution_count": 8,
   "metadata": {
    "ExecuteTime": {
     "end_time": "2019-11-15T08:36:59.705467Z",
     "start_time": "2019-11-15T08:36:58.864516Z"
    }
   },
   "outputs": [],
   "source": [
    "# Load dataset\n",
    "if not fp:\n",
    "    fp = pd.read_csv('~/p4/data/interim/fp_posts.csv')\n",
    "    fp = fp.drop(['url', 'img', 'created'], axis=1)\n",
    "    fp['before'] = fp['title'].copy()\n",
    "    fp['title'] = fp.title.str.replace(r'\\d+', '')\n",
    "    fp['title'] = fp.title.str.replace(r'\\[.*\\]', '')\n",
    "    fp['title'] = fp.title.str.replace(r'[^A-Za-z\\s]', '')"
   ]
  },
  {
   "cell_type": "code",
   "execution_count": 9,
   "metadata": {
    "ExecuteTime": {
     "end_time": "2019-11-15T09:07:00.420466Z",
     "start_time": "2019-11-15T08:36:59.707587Z"
    }
   },
   "outputs": [
    {
     "name": "stdout",
     "output_type": "stream",
     "text": [
      "notes/output_file_cv_LSA_10.txt\n",
      "notes/output_file_cv_LSA_15.txt\n",
      "notes/output_file_cv_LSA_20.txt\n",
      "notes/output_file_cv_LSA_25.txt\n",
      "notes/output_file_cv_LSA_50.txt\n",
      "notes/output_file_cv_NMF_10.txt\n",
      "notes/output_file_cv_NMF_15.txt\n",
      "notes/output_file_cv_NMF_20.txt\n",
      "notes/output_file_cv_NMF_25.txt\n",
      "notes/output_file_cv_NMF_50.txt\n",
      "notes/output_file_cv_LDA_10.txt\n",
      "notes/output_file_cv_LDA_15.txt\n",
      "notes/output_file_cv_LDA_20.txt\n",
      "notes/output_file_cv_LDA_25.txt\n",
      "notes/output_file_cv_LDA_50.txt\n",
      "notes/output_file_tfidf_LSA_10.txt\n",
      "notes/output_file_tfidf_LSA_15.txt\n",
      "notes/output_file_tfidf_LSA_20.txt\n",
      "notes/output_file_tfidf_LSA_25.txt\n",
      "notes/output_file_tfidf_LSA_50.txt\n",
      "notes/output_file_tfidf_NMF_10.txt\n",
      "notes/output_file_tfidf_NMF_15.txt\n",
      "notes/output_file_tfidf_NMF_20.txt\n",
      "notes/output_file_tfidf_NMF_25.txt\n",
      "notes/output_file_tfidf_NMF_50.txt\n",
      "notes/output_file_tfidf_LDA_10.txt\n",
      "notes/output_file_tfidf_LDA_15.txt\n",
      "notes/output_file_tfidf_LDA_20.txt\n",
      "notes/output_file_tfidf_LDA_25.txt\n",
      "notes/output_file_tfidf_LDA_50.txt\n"
     ]
    },
    {
     "data": {
      "text/plain": [
       "array([[0.00565652, 0.00565652, 0.00565652, ..., 0.00565652, 0.00565652,\n",
       "        0.00565652],\n",
       "       [0.004748  , 0.004748  , 0.004748  , ..., 0.29158645, 0.004748  ,\n",
       "        0.004748  ],\n",
       "       [0.00628325, 0.00628325, 0.00628325, ..., 0.00628325, 0.11965841,\n",
       "        0.00628325],\n",
       "       ...,\n",
       "       [0.01      , 0.01      , 0.01      , ..., 0.01      , 0.01      ,\n",
       "        0.01      ],\n",
       "       [0.00743752, 0.00743752, 0.00743752, ..., 0.00743752, 0.00743752,\n",
       "        0.00743752],\n",
       "       [0.00568512, 0.00568512, 0.00568512, ..., 0.00568512, 0.72142935,\n",
       "        0.00568512]])"
      ]
     },
     "execution_count": 9,
     "metadata": {},
     "output_type": "execute_result"
    }
   ],
   "source": [
    "# Create a vocabulary. The vocabulary filters out extremes values so that\n",
    "# only words that appear more than a set number of times are included.\n",
    "VOCABULARY = create_vocabulary(fp.title, min_count=20)\n",
    "# with open('pickles/vocabulary.pkl', 'wb') as f:\n",
    "#     pickle.dump(VOCABULARY, f)\n",
    "\n",
    "fp.title = fp.apply(lambda row: tokenize(row['title']),axis=1)\n",
    "\n",
    "# Set up test parameters and run models.\n",
    "test_vecs = {'cv': CountVectorizer, 'tfidf': TfidfVectorizer}\n",
    "test_models = {'LSA': LSA, 'NMF': NMF, 'LDA': LDA}\n",
    "test_n_topics = [10, 15, 20, 25, 50]\n",
    "run_models(fp.title, test_vecs, test_models, test_n_topics, tokenize, VOCABULARY)"
   ]
  },
  {
   "cell_type": "code",
   "execution_count": 10,
   "metadata": {
    "ExecuteTime": {
     "end_time": "2019-11-15T09:07:36.798470Z",
     "start_time": "2019-11-15T09:07:00.424029Z"
    }
   },
   "outputs": [
    {
     "name": "stdout",
     "output_type": "stream",
     "text": [
      "notes/output_file_tfidf_NMF_20.txt\n"
     ]
    }
   ],
   "source": [
    "# Run a singular test and caputre the document-topic vector for clustering.\n",
    "test_vecs = {'tfidf': TfidfVectorizer}\n",
    "test_models = {'NMF': NMF}\n",
    "test_n_topics = [20]\n",
    "fit_model = run_models(fp.title, test_vecs, test_models, test_n_topics, tokenize, VOCABULARY)"
   ]
  },
  {
   "cell_type": "code",
   "execution_count": 11,
   "metadata": {
    "ExecuteTime": {
     "end_time": "2019-11-15T09:07:54.456163Z",
     "start_time": "2019-11-15T09:07:36.800704Z"
    }
   },
   "outputs": [
    {
     "data": {
      "image/png": "[encoded data removed]",
      "text/plain": [
       "<Figure size 432x288 with 1 Axes>"
      ]
     },
     "metadata": {
      "needs_background": "light"
     },
     "output_type": "display_data"
    }
   ],
   "source": [
    "# Run the normalize document-topic vector though a range of values to\n",
    "# look for an elbow.\n",
    "nm = normalize(fit_model)\n",
    "\n",
    "nc = range(1,10)\n",
    "errors = find_best_num_clusters(nm, nc)\n",
    "\n",
    "e1 = [x[1] for x in errors]\n",
    "\n",
    "plt.title('KMeans Clustering');\n",
    "plt.xlabel('Number of Clusters');\n",
    "plt.ylabel('Interia');\n",
    "plt.plot(nc, e1);\n",
    "plt.savefig('../images/Clustering_Undecomposed.png')"
   ]
  },
  {
   "cell_type": "code",
   "execution_count": null,
   "metadata": {},
   "outputs": [],
   "source": []
  }
 ],
 "metadata": {
  "kernelspec": {
   "display_name": "Python [conda env:metis] *",
   "language": "python",
   "name": "conda-env-metis-py"
  },
  "language_info": {
   "codemirror_mode": {
    "name": "ipython",
    "version": 3
   },
   "file_extension": ".py",
   "mimetype": "text/x-python",
   "name": "python",
   "nbconvert_exporter": "python",
   "pygments_lexer": "ipython3",
   "version": "3.7.5"
  },
  "toc": {
   "base_numbering": 1,
   "nav_menu": {},
   "number_sections": true,
   "sideBar": true,
   "skip_h1_title": false,
   "title_cell": "Table of Contents",
   "title_sidebar": "Contents",
   "toc_cell": false,
   "toc_position": {},
   "toc_section_display": true,
   "toc_window_display": false
  }
 },
 "nbformat": 4,
 "nbformat_minor": 2
}
