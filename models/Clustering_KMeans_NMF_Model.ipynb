{
 "cells": [
  {
   "cell_type": "code",
   "execution_count": 1,
   "metadata": {
    "ExecuteTime": {
     "end_time": "2019-11-12T01:27:34.110894Z",
     "start_time": "2019-11-12T01:27:31.794482Z"
    }
   },
   "outputs": [],
   "source": [
    "from sklearn.feature_extraction.text import TfidfVectorizer\n",
    "from sklearn.decomposition import TruncatedSVD\n",
    "from sklearn.metrics.pairwise import cosine_similarity\n",
    "from sklearn.cluster import KMeans\n",
    "from sklearn.decomposition import NMF\n",
    "\n",
    "# from yellowbrick.cluster import KElbowVisualizer\n",
    "\n",
    "import numpy as np\n",
    "import pandas as pd\n",
    "import matplotlib.pyplot as plt\n",
    "import pickle"
   ]
  },
  {
   "cell_type": "code",
   "execution_count": 2,
   "metadata": {
    "ExecuteTime": {
     "end_time": "2019-11-12T01:39:42.234849Z",
     "start_time": "2019-11-12T01:39:42.230844Z"
    }
   },
   "outputs": [],
   "source": [
    "def tokenize(string):\n",
    "    \"\"\"Cleans and tokenizes a string and returns a list of strings that are in\n",
    "    VOCABULARY\"\"\"\n",
    "    words_in_string = clean_str(string)\n",
    "    return [word for word in words_in_string if word in VOCABULARY]"
   ]
  },
  {
   "cell_type": "code",
   "execution_count": 3,
   "metadata": {
    "ExecuteTime": {
     "end_time": "2019-11-12T01:57:24.498938Z",
     "start_time": "2019-11-12T01:57:24.494693Z"
    }
   },
   "outputs": [],
   "source": [
    "def find_best_num_clusters(matrix, cluster_range):\n",
    "    clusters_errors = []\n",
    "    for n in cluster_range:\n",
    "        km = KMeans(n_clusters=n, n_jobs=-1)\n",
    "        km.fit(matrix)\n",
    "        clusters_errors.append((n, km.inertia_))\n",
    "        print('Complete for {} clusters...'.format(n))\n",
    "    return clusters_errors"
   ]
  },
  {
   "cell_type": "code",
   "execution_count": 4,
   "metadata": {
    "ExecuteTime": {
     "end_time": "2019-11-12T01:54:04.093770Z",
     "start_time": "2019-11-12T01:54:03.957563Z"
    }
   },
   "outputs": [
    {
     "name": "stderr",
     "output_type": "stream",
     "text": [
      "'pwd' is not recognized as an internal or external command,\n",
      "operable program or batch file.\n"
     ]
    }
   ],
   "source": [
    "!pwd"
   ]
  },
  {
   "cell_type": "code",
   "execution_count": 5,
   "metadata": {
    "ExecuteTime": {
     "end_time": "2019-11-12T01:54:04.233275Z",
     "start_time": "2019-11-12T01:54:04.227664Z"
    }
   },
   "outputs": [],
   "source": [
    "with open('/Users/scott/p4/pickles/vocabulary.pkl', 'rb') as f:\n",
    "    VOCABULARY = pickle.load(f)"
   ]
  },
  {
   "cell_type": "code",
   "execution_count": 6,
   "metadata": {
    "ExecuteTime": {
     "end_time": "2019-11-12T01:54:04.803138Z",
     "start_time": "2019-11-12T01:54:04.603497Z"
    }
   },
   "outputs": [],
   "source": [
    "with open('/Users/scott/p4/pickles/vectorizer_tfidf_NMF_20.pkl', 'rb') as f:\n",
    "    tf = pickle.load(f)\n",
    "\n",
    "with open('/Users/scott/p4/pickles/doc_topic_tfidf_NMF_20.pkl', 'rb') as f:\n",
    "    word_vec_reduced = pickle.load(f)\n",
    "\n",
    "with open('/Users/scott/p4/pickles/model_tfidf_NMF_20.pkl', 'rb') as f:\n",
    "    nmf = pickle.load(f)"
   ]
  },
  {
   "cell_type": "code",
   "execution_count": 7,
   "metadata": {
    "ExecuteTime": {
     "end_time": "2019-11-12T01:54:05.319634Z",
     "start_time": "2019-11-12T01:54:05.195081Z"
    }
   },
   "outputs": [
    {
     "name": "stderr",
     "output_type": "stream",
     "text": [
      "'pwd' is not recognized as an internal or external command,\n",
      "operable program or batch file.\n"
     ]
    }
   ],
   "source": [
    "!pwd"
   ]
  },
  {
   "cell_type": "code",
   "execution_count": 8,
   "metadata": {
    "ExecuteTime": {
     "end_time": "2019-11-12T01:54:05.425321Z",
     "start_time": "2019-11-12T01:54:05.421120Z"
    }
   },
   "outputs": [
    {
     "name": "stdout",
     "output_type": "stream",
     "text": [
      "<class 'sklearn.decomposition.nmf.NMF'>\n",
      "<class 'sklearn.feature_extraction.text.TfidfVectorizer'>\n",
      "<class 'numpy.ndarray'>\n"
     ]
    }
   ],
   "source": [
    "print(type(nmf))\n",
    "print(type(tf))\n",
    "print(type(word_vec_reduced))"
   ]
  },
  {
   "cell_type": "code",
   "execution_count": 14,
   "metadata": {
    "ExecuteTime": {
     "end_time": "2019-11-12T02:32:44.155668Z",
     "start_time": "2019-11-12T02:02:38.583602Z"
    }
   },
   "outputs": [
    {
     "name": "stdout",
     "output_type": "stream",
     "text": [
      "Complete for 1 clusters...\n",
      "Complete for 2 clusters...\n",
      "Complete for 3 clusters...\n",
      "Complete for 4 clusters...\n",
      "Complete for 5 clusters...\n",
      "Complete for 6 clusters...\n",
      "Complete for 7 clusters...\n",
      "Complete for 8 clusters...\n",
      "Complete for 9 clusters...\n",
      "Complete for 10 clusters...\n",
      "Complete for 11 clusters...\n",
      "Complete for 12 clusters...\n",
      "Complete for 13 clusters...\n",
      "Complete for 14 clusters...\n",
      "Complete for 15 clusters...\n",
      "Complete for 16 clusters...\n",
      "Complete for 17 clusters...\n",
      "Complete for 18 clusters...\n",
      "Complete for 19 clusters...\n",
      "Complete for 20 clusters...\n",
      "Complete for 21 clusters...\n",
      "Complete for 22 clusters...\n",
      "Complete for 23 clusters...\n",
      "Complete for 24 clusters...\n",
      "Complete for 25 clusters...\n",
      "Complete for 26 clusters...\n",
      "Complete for 27 clusters...\n",
      "Complete for 28 clusters...\n",
      "Complete for 29 clusters...\n",
      "Complete for 30 clusters...\n",
      "Complete for 31 clusters...\n",
      "Complete for 32 clusters...\n",
      "Complete for 33 clusters...\n",
      "Complete for 34 clusters...\n",
      "Complete for 35 clusters...\n",
      "Complete for 36 clusters...\n",
      "Complete for 37 clusters...\n",
      "Complete for 38 clusters...\n",
      "Complete for 39 clusters...\n",
      "Complete for 40 clusters...\n",
      "Complete for 41 clusters...\n",
      "Complete for 42 clusters...\n",
      "Complete for 43 clusters...\n",
      "Complete for 44 clusters...\n",
      "Complete for 45 clusters...\n",
      "Complete for 46 clusters...\n",
      "Complete for 47 clusters...\n",
      "Complete for 48 clusters...\n",
      "Complete for 49 clusters...\n",
      "Complete for 50 clusters...\n",
      "Complete for 51 clusters...\n",
      "Complete for 52 clusters...\n",
      "Complete for 53 clusters...\n",
      "Complete for 54 clusters...\n",
      "Complete for 55 clusters...\n",
      "Complete for 56 clusters...\n",
      "Complete for 57 clusters...\n",
      "Complete for 58 clusters...\n",
      "Complete for 59 clusters...\n",
      "Complete for 60 clusters...\n",
      "Complete for 61 clusters...\n",
      "Complete for 62 clusters...\n",
      "Complete for 63 clusters...\n",
      "Complete for 64 clusters...\n",
      "Complete for 65 clusters...\n",
      "Complete for 66 clusters...\n",
      "Complete for 67 clusters...\n",
      "Complete for 68 clusters...\n",
      "Complete for 69 clusters...\n",
      "Complete for 70 clusters...\n",
      "Complete for 71 clusters...\n",
      "Complete for 72 clusters...\n",
      "Complete for 73 clusters...\n",
      "Complete for 74 clusters...\n",
      "Complete for 75 clusters...\n",
      "Complete for 76 clusters...\n",
      "Complete for 77 clusters...\n",
      "Complete for 78 clusters...\n",
      "Complete for 79 clusters...\n",
      "Complete for 80 clusters...\n",
      "Complete for 81 clusters...\n",
      "Complete for 82 clusters...\n",
      "Complete for 83 clusters...\n",
      "Complete for 84 clusters...\n",
      "Complete for 85 clusters...\n",
      "Complete for 86 clusters...\n",
      "Complete for 87 clusters...\n",
      "Complete for 88 clusters...\n",
      "Complete for 89 clusters...\n",
      "Complete for 90 clusters...\n",
      "Complete for 91 clusters...\n",
      "Complete for 92 clusters...\n",
      "Complete for 93 clusters...\n",
      "Complete for 94 clusters...\n",
      "Complete for 95 clusters...\n",
      "Complete for 96 clusters...\n",
      "Complete for 97 clusters...\n",
      "Complete for 98 clusters...\n",
      "Complete for 99 clusters...\n"
     ]
    },
    {
     "data": {
      "image/png": "[encoded data removed]",
      "text/plain": [
       "<Figure size 432x288 with 1 Axes>"
      ]
     },
     "metadata": {
      "needs_background": "light"
     },
     "output_type": "display_data"
    }
   ],
   "source": [
    "vec = nmf.components_\n",
    "\n",
    "nc = range(1,100)\n",
    "errors = find_best_num_clusters(word_vec_reduced, nc)\n",
    "\n",
    "e1 = [x[1] for x in errors]\n",
    "\n",
    "\n",
    "plt.title('No elbow here!');\n",
    "plt.xlabel('Number of Clusters');\n",
    "plt.ylabel('Interia');\n",
    "plt.plot(nc, e1);\n",
    "plt.savefig('../images/no_elbow_here.png')"
   ]
  },
  {
   "cell_type": "code",
   "execution_count": 10,
   "metadata": {
    "ExecuteTime": {
     "end_time": "2019-11-12T01:59:19.494418Z",
     "start_time": "2019-11-12T01:59:19.489723Z"
    }
   },
   "outputs": [
    {
     "data": {
      "text/plain": [
       "[240.88876262397704,\n",
       " 230.13243483170805,\n",
       " 216.638979574999,\n",
       " 207.98975011130676,\n",
       " 200.08742415201044,\n",
       " 186.67440380142696,\n",
       " 176.32795469976386]"
      ]
     },
     "execution_count": 10,
     "metadata": {},
     "output_type": "execute_result"
    }
   ],
   "source": [
    "e1"
   ]
  },
  {
   "cell_type": "code",
   "execution_count": 11,
   "metadata": {},
   "outputs": [
    {
     "data": {
      "text/plain": [
       "(111240, 20)"
      ]
     },
     "execution_count": 11,
     "metadata": {},
     "output_type": "execute_result"
    }
   ],
   "source": [
    "word_vec_reduced.shape"
   ]
  },
  {
   "cell_type": "code",
   "execution_count": null,
   "metadata": {},
   "outputs": [],
   "source": []
  }
 ],
 "metadata": {
  "kernelspec": {
   "display_name": "Python 3",
   "language": "python",
   "name": "python3"
  },
  "language_info": {
   "codemirror_mode": {
    "name": "ipython",
    "version": 3
   },
   "file_extension": ".py",
   "mimetype": "text/x-python",
   "name": "python",
   "nbconvert_exporter": "python",
   "pygments_lexer": "ipython3",
   "version": "3.7.5"
  },
  "toc": {
   "base_numbering": 1,
   "nav_menu": {},
   "number_sections": true,
   "sideBar": true,
   "skip_h1_title": false,
   "title_cell": "Table of Contents",
   "title_sidebar": "Contents",
   "toc_cell": false,
   "toc_position": {},
   "toc_section_display": true,
   "toc_window_display": false
  }
 },
 "nbformat": 4,
 "nbformat_minor": 2
}
