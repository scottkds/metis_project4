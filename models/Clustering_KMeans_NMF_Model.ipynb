{
 "cells": [
  {
   "cell_type": "code",
   "execution_count": 17,
   "metadata": {
    "ExecuteTime": {
     "end_time": "2019-11-13T16:30:35.899202Z",
     "start_time": "2019-11-13T16:30:35.301602Z"
    }
   },
   "outputs": [],
   "source": [
    "from sklearn.feature_extraction.text import TfidfVectorizer\n",
    "from sklearn.decomposition import TruncatedSVD\n",
    "from sklearn.metrics.pairwise import cosine_similarity\n",
    "from sklearn.cluster import KMeans\n",
    "from sklearn.decomposition import NMF\n",
    "from sklearn.preprocessing import normalize\n",
    "\n",
    "from gensim.parsing.preprocessing import preprocess_string, strip_tags\n",
    "from gensim.parsing.preprocessing import strip_punctuation, strip_multiple_whitespaces\n",
    "from gensim.parsing.preprocessing import stem_text, strip_numeric, strip_short\n",
    "from gensim.corpora import Dictionary\n",
    "\n",
    "# from yellowbrick.cluster import KElbowVisualizer\n",
    "\n",
    "import numpy as np\n",
    "import pandas as pd\n",
    "import matplotlib.pyplot as plt\n",
    "import pickle"
   ]
  },
  {
   "cell_type": "code",
   "execution_count": 12,
   "metadata": {
    "ExecuteTime": {
     "end_time": "2019-11-13T16:29:10.380810Z",
     "start_time": "2019-11-13T16:29:10.374842Z"
    }
   },
   "outputs": [],
   "source": [
    "def clean_str(string):\n",
    "    \"\"\"Cleans and tokenizes a string with some functions from gensim.\n",
    "\n",
    "    Input: A string\n",
    "    Output: A lists of tokenized words\"\"\"\n",
    "    return preprocess_string(string, filters=[strip_tags, strip_punctuation,\n",
    "                                    strip_numeric, strip_multiple_whitespaces,\n",
    "                                    strip_short])\n",
    "\n",
    "def create_vocabulary(series_of_strings, min_count=20, max_percent=0.05, keep_n=10000):\n",
    "    \"\"\"Tokenizes words in the list_of_strings and filters extremes.\n",
    "    Returns a set of words that comprise a vocabulary based on the\n",
    "    input strings\"\"\"\n",
    "    # all_words = series_of_strings.apply(lambda row: preprocess_string(row))\n",
    "    all_words = Dictionary(series_of_strings.apply(lambda row: clean_str(row)))\n",
    "    all_words.filter_extremes(no_below=min_count, no_above=max_percent, keep_n=keep_n)\n",
    "    return set(all_words.values())\n",
    "\n",
    "def tokenize(string):\n",
    "    \"\"\"Cleans and tokenizes a string and returns a list of strings that are in\n",
    "    VOCABULARY\"\"\"\n",
    "    words_in_string = clean_str(string)\n",
    "    return [word for word in words_in_string if word in VOCABULARY]"
   ]
  },
  {
   "cell_type": "code",
   "execution_count": 21,
   "metadata": {
    "ExecuteTime": {
     "end_time": "2019-11-13T16:31:33.863263Z",
     "start_time": "2019-11-13T16:31:33.859912Z"
    }
   },
   "outputs": [],
   "source": [
    "from gensim.parsing.preprocessing import preprocess_string, strip_tags\n",
    "from gensim.parsing.preprocessing import strip_punctuation, strip_multiple_whitespaces\n",
    "from gensim.parsing.preprocessing import stem_text, strip_numeric, strip_short\n",
    "from gensim.corpora import Dictionary"
   ]
  },
  {
   "cell_type": "code",
   "execution_count": 7,
   "metadata": {
    "ExecuteTime": {
     "end_time": "2019-11-13T16:26:27.236816Z",
     "start_time": "2019-11-13T16:26:27.083247Z"
    }
   },
   "outputs": [],
   "source": [
    "with open('/Users/scott/p4/pickles/vectorizer_tfidf_NMF_20.pkl', 'rb') as f:\n",
    "    tf = pickle.load(f)\n",
    "\n",
    "with open('/Users/scott/p4/pickles/doc_topic_tfidf_NMF_20.pkl', 'rb') as f:\n",
    "    word_vec_reduced = pickle.load(f)\n",
    "\n",
    "with open('/Users/scott/p4/pickles/model_tfidf_NMF_20.pkl', 'rb') as f:\n",
    "    nmf = pickle.load(f)"
   ]
  },
  {
   "cell_type": "code",
   "execution_count": 13,
   "metadata": {
    "ExecuteTime": {
     "end_time": "2019-11-13T16:29:35.569555Z",
     "start_time": "2019-11-13T16:29:35.564811Z"
    }
   },
   "outputs": [],
   "source": [
    "with open('/Users/scott/p4/pickles/vocabulary.pkl', 'rb') as f:\n",
    "    VOCABULARY = pickle.load(f)"
   ]
  },
  {
   "cell_type": "code",
   "execution_count": 18,
   "metadata": {
    "ExecuteTime": {
     "end_time": "2019-11-13T16:30:40.208891Z",
     "start_time": "2019-11-13T16:30:39.832340Z"
    }
   },
   "outputs": [],
   "source": [
    "docs = pd.read_csv('/Users/scott/p4/data/interim/fp_posts.csv')"
   ]
  },
  {
   "cell_type": "code",
   "execution_count": 19,
   "metadata": {
    "ExecuteTime": {
     "end_time": "2019-11-13T16:30:44.993636Z",
     "start_time": "2019-11-13T16:30:41.864943Z"
    }
   },
   "outputs": [],
   "source": [
    "wv = tf.fit_transform(docs.title)"
   ]
  },
  {
   "cell_type": "code",
   "execution_count": 20,
   "metadata": {
    "ExecuteTime": {
     "end_time": "2019-11-13T16:31:08.068786Z",
     "start_time": "2019-11-13T16:31:08.061717Z"
    }
   },
   "outputs": [
    {
     "name": "stdout",
     "output_type": "stream",
     "text": [
      "<class 'scipy.sparse.csr.csr_matrix'>\n"
     ]
    },
    {
     "data": {
      "text/plain": [
       "<10x150533 sparse matrix of type '<class 'numpy.float64'>'\n",
       "\twith 66 stored elements in Compressed Sparse Row format>"
      ]
     },
     "execution_count": 20,
     "metadata": {},
     "output_type": "execute_result"
    }
   ],
   "source": [
    "print(type(wv))\n",
    "wv[:10,:]"
   ]
  },
  {
   "cell_type": "code",
   "execution_count": 22,
   "metadata": {
    "ExecuteTime": {
     "end_time": "2019-11-13T16:32:27.688149Z",
     "start_time": "2019-11-13T16:32:27.564862Z"
    }
   },
   "outputs": [
    {
     "name": "stdout",
     "output_type": "stream",
     "text": [
      "/Users/scott/metis/projects/project4/models\r\n"
     ]
    }
   ],
   "source": [
    "!pwd"
   ]
  },
  {
   "cell_type": "code",
   "execution_count": 23,
   "metadata": {
    "ExecuteTime": {
     "end_time": "2019-11-13T16:32:27.955342Z",
     "start_time": "2019-11-13T16:32:27.951336Z"
    }
   },
   "outputs": [
    {
     "name": "stdout",
     "output_type": "stream",
     "text": [
      "<class 'sklearn.decomposition.nmf.NMF'>\n",
      "<class 'sklearn.feature_extraction.text.TfidfVectorizer'>\n",
      "<class 'numpy.ndarray'>\n"
     ]
    }
   ],
   "source": [
    "print(type(nmf))\n",
    "print(type(tf))\n",
    "print(type(word_vec_reduced))"
   ]
  },
  {
   "cell_type": "code",
   "execution_count": 29,
   "metadata": {
    "ExecuteTime": {
     "end_time": "2019-11-13T18:24:35.004080Z",
     "start_time": "2019-11-13T18:06:43.461959Z"
    }
   },
   "outputs": [
    {
     "name": "stdout",
     "output_type": "stream",
     "text": [
      "Complete for 1 clusters...\n",
      "Complete for 2 clusters...\n",
      "Complete for 3 clusters...\n",
      "Complete for 4 clusters...\n",
      "Complete for 5 clusters...\n",
      "Complete for 6 clusters...\n",
      "Complete for 7 clusters...\n",
      "Complete for 8 clusters...\n",
      "Complete for 9 clusters...\n"
     ]
    },
    {
     "data": {
      "image/png": "[encoded data removed]",
      "text/plain": [
       "<Figure size 432x288 with 1 Axes>"
      ]
     },
     "metadata": {
      "needs_background": "light"
     },
     "output_type": "display_data"
    }
   ],
   "source": [
    "# nm = normalize(word_vec_reduced)\n",
    "nm = normalize(wv)\n",
    "\n",
    "nc = range(1,10)\n",
    "errors = find_best_num_clusters(nm, nc)\n",
    "\n",
    "e1 = [x[1] for x in errors]\n",
    "\n",
    "\n",
    "plt.title('KMeans Clustering');\n",
    "plt.xlabel('Number of Clusters');\n",
    "plt.ylabel('Interia');\n",
    "plt.plot(nc, e1);\n",
    "plt.savefig('../images/Clustering_Undecomposed.png')"
   ]
  },
  {
   "cell_type": "code",
   "execution_count": 28,
   "metadata": {
    "ExecuteTime": {
     "end_time": "2019-11-13T17:47:29.926578Z",
     "start_time": "2019-11-13T17:47:29.911554Z"
    }
   },
   "outputs": [
    {
     "ename": "NameError",
     "evalue": "name 'el' is not defined",
     "output_type": "error",
     "traceback": [
      "\u001b[0;31m---------------------------------------------------------------------------\u001b[0m",
      "\u001b[0;31mNameError\u001b[0m                                 Traceback (most recent call last)",
      "\u001b[0;32m<ipython-input-28-344b7d23c300>\u001b[0m in \u001b[0;36m<module>\u001b[0;34m\u001b[0m\n\u001b[0;32m----> 1\u001b[0;31m \u001b[0mel\u001b[0m\u001b[0;34m\u001b[0m\u001b[0;34m\u001b[0m\u001b[0m\n\u001b[0m",
      "\u001b[0;31mNameError\u001b[0m: name 'el' is not defined"
     ]
    }
   ],
   "source": [
    "el"
   ]
  },
  {
   "cell_type": "markdown",
   "metadata": {
    "ExecuteTime": {
     "end_time": "2019-11-12T21:49:31.935838Z",
     "start_time": "2019-11-12T21:49:31.932660Z"
    }
   },
   "source": [
    "# word_vec_reduced.shape"
   ]
  },
  {
   "cell_type": "code",
   "execution_count": null,
   "metadata": {},
   "outputs": [],
   "source": []
  }
 ],
 "metadata": {
  "kernelspec": {
   "display_name": "Python [conda env:metis] *",
   "language": "python",
   "name": "conda-env-metis-py"
  },
  "language_info": {
   "codemirror_mode": {
    "name": "ipython",
    "version": 3
   },
   "file_extension": ".py",
   "mimetype": "text/x-python",
   "name": "python",
   "nbconvert_exporter": "python",
   "pygments_lexer": "ipython3",
   "version": "3.7.5"
  },
  "toc": {
   "base_numbering": 1,
   "nav_menu": {},
   "number_sections": true,
   "sideBar": true,
   "skip_h1_title": false,
   "title_cell": "Table of Contents",
   "title_sidebar": "Contents",
   "toc_cell": false,
   "toc_position": {},
   "toc_section_display": true,
   "toc_window_display": false
  }
 },
 "nbformat": 4,
 "nbformat_minor": 2
}
